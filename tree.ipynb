{
 "cells": [
  {
   "attachments": {},
   "cell_type": "markdown",
   "metadata": {},
   "source": [
    "Importo las librerías necesarias"
   ]
  },
  {
   "cell_type": "code",
   "execution_count": 134,
   "metadata": {},
   "outputs": [],
   "source": [
    "import pandas as pd\n",
    "from sklearn.tree import DecisionTreeClassifier \n",
    "from sklearn.model_selection import train_test_split \n",
    "from sklearn import metrics \n",
    "import pyarrow\n",
    "import pickle"
   ]
  },
  {
   "attachments": {},
   "cell_type": "markdown",
   "metadata": {},
   "source": [
    "Traigo el dataset de entrenamiento"
   ]
  },
  {
   "cell_type": "code",
   "execution_count": 135,
   "metadata": {},
   "outputs": [],
   "source": [
    "df_train = pd.read_parquet('train.parquet')"
   ]
  },
  {
   "attachments": {},
   "cell_type": "markdown",
   "metadata": {},
   "source": [
    "Genero la columna categoy_price, que va a ser mi variable dependiente."
   ]
  },
  {
   "cell_type": "code",
   "execution_count": 136,
   "metadata": {},
   "outputs": [],
   "source": [
    "def categorise(row):  # Le asigno valor 1 a todos los valores de la columna 'price' que estén entre 0 y 999 dólares, y el valor 0 a los que superen dicho monto.\n",
    "    if row['price'] >= 0 and row['price'] <= 999:\n",
    "        return 1\n",
    "    else: return 0\n",
    "df_train['category_price'] = df_train.apply(lambda row: categorise(row), axis=1) # La función lambda agrega las categorías creadas por la función \"categorize\" a la nueva columna."
   ]
  },
  {
   "cell_type": "code",
   "execution_count": 137,
   "metadata": {},
   "outputs": [
    {
     "data": {
      "text/html": [
       "<div>\n",
       "<style scoped>\n",
       "    .dataframe tbody tr th:only-of-type {\n",
       "        vertical-align: middle;\n",
       "    }\n",
       "\n",
       "    .dataframe tbody tr th {\n",
       "        vertical-align: top;\n",
       "    }\n",
       "\n",
       "    .dataframe thead th {\n",
       "        text-align: right;\n",
       "    }\n",
       "</style>\n",
       "<table border=\"1\" class=\"dataframe\">\n",
       "  <thead>\n",
       "    <tr style=\"text-align: right;\">\n",
       "      <th></th>\n",
       "      <th>id</th>\n",
       "      <th>url</th>\n",
       "      <th>region</th>\n",
       "      <th>region_url</th>\n",
       "      <th>price</th>\n",
       "      <th>type</th>\n",
       "      <th>sqfeet</th>\n",
       "      <th>beds</th>\n",
       "      <th>baths</th>\n",
       "      <th>cats_allowed</th>\n",
       "      <th>...</th>\n",
       "      <th>electric_vehicle_charge</th>\n",
       "      <th>comes_furnished</th>\n",
       "      <th>laundry_options</th>\n",
       "      <th>parking_options</th>\n",
       "      <th>image_url</th>\n",
       "      <th>description</th>\n",
       "      <th>lat</th>\n",
       "      <th>long</th>\n",
       "      <th>state</th>\n",
       "      <th>category_price</th>\n",
       "    </tr>\n",
       "  </thead>\n",
       "  <tbody>\n",
       "    <tr>\n",
       "      <th>0</th>\n",
       "      <td>7048013474</td>\n",
       "      <td>https://boise.craigslist.org/apa/d/very-nice-b...</td>\n",
       "      <td>boise</td>\n",
       "      <td>https://boise.craigslist.org</td>\n",
       "      <td>1350</td>\n",
       "      <td>house</td>\n",
       "      <td>1200</td>\n",
       "      <td>2</td>\n",
       "      <td>2.0</td>\n",
       "      <td>1</td>\n",
       "      <td>...</td>\n",
       "      <td>0</td>\n",
       "      <td>0</td>\n",
       "      <td>w/d in unit</td>\n",
       "      <td>detached garage</td>\n",
       "      <td>https://images.craigslist.org/00B0B_cPiJMEheZe...</td>\n",
       "      <td>Super cute row house in the Boise bench area. ...</td>\n",
       "      <td>43.5851</td>\n",
       "      <td>-116.2250</td>\n",
       "      <td>id</td>\n",
       "      <td>0</td>\n",
       "    </tr>\n",
       "    <tr>\n",
       "      <th>1</th>\n",
       "      <td>7043931179</td>\n",
       "      <td>https://cosprings.craigslist.org/apa/d/colorad...</td>\n",
       "      <td>colorado springs</td>\n",
       "      <td>https://cosprings.craigslist.org</td>\n",
       "      <td>1115</td>\n",
       "      <td>apartment</td>\n",
       "      <td>694</td>\n",
       "      <td>1</td>\n",
       "      <td>1.0</td>\n",
       "      <td>1</td>\n",
       "      <td>...</td>\n",
       "      <td>0</td>\n",
       "      <td>0</td>\n",
       "      <td>w/d in unit</td>\n",
       "      <td>carport</td>\n",
       "      <td>https://images.craigslist.org/00R0R_5XAoSKvfrz...</td>\n",
       "      <td>Windtree Apartment Homes currently has a spaci...</td>\n",
       "      <td>38.9137</td>\n",
       "      <td>-104.7800</td>\n",
       "      <td>co</td>\n",
       "      <td>0</td>\n",
       "    </tr>\n",
       "    <tr>\n",
       "      <th>2</th>\n",
       "      <td>7048254516</td>\n",
       "      <td>https://norfolk.craigslist.org/apa/d/virginia-...</td>\n",
       "      <td>norfolk / hampton roads</td>\n",
       "      <td>https://norfolk.craigslist.org</td>\n",
       "      <td>1129</td>\n",
       "      <td>apartment</td>\n",
       "      <td>900</td>\n",
       "      <td>2</td>\n",
       "      <td>2.0</td>\n",
       "      <td>0</td>\n",
       "      <td>...</td>\n",
       "      <td>0</td>\n",
       "      <td>0</td>\n",
       "      <td>w/d hookups</td>\n",
       "      <td>off-street parking</td>\n",
       "      <td>https://images.craigslist.org/00f0f_3ZbTFrsHpZ...</td>\n",
       "      <td>Call Today!  show contact info   Indian Lakes ...</td>\n",
       "      <td>36.7922</td>\n",
       "      <td>-76.1643</td>\n",
       "      <td>va</td>\n",
       "      <td>0</td>\n",
       "    </tr>\n",
       "    <tr>\n",
       "      <th>3</th>\n",
       "      <td>7041032577</td>\n",
       "      <td>https://phoenix.craigslist.org/nph/apa/d/phoen...</td>\n",
       "      <td>phoenix</td>\n",
       "      <td>https://phoenix.craigslist.org</td>\n",
       "      <td>1580</td>\n",
       "      <td>house</td>\n",
       "      <td>1469</td>\n",
       "      <td>3</td>\n",
       "      <td>2.0</td>\n",
       "      <td>1</td>\n",
       "      <td>...</td>\n",
       "      <td>0</td>\n",
       "      <td>0</td>\n",
       "      <td>w/d in unit</td>\n",
       "      <td>None</td>\n",
       "      <td>https://images.craigslist.org/00f0f_aXV5Dkd5qk...</td>\n",
       "      <td>Cody Anderson Two Brothers Realty License #: S...</td>\n",
       "      <td>33.5623</td>\n",
       "      <td>-112.0560</td>\n",
       "      <td>az</td>\n",
       "      <td>0</td>\n",
       "    </tr>\n",
       "    <tr>\n",
       "      <th>4</th>\n",
       "      <td>7048588701</td>\n",
       "      <td>https://nashville.craigslist.org/apa/d/antioch...</td>\n",
       "      <td>nashville</td>\n",
       "      <td>https://nashville.craigslist.org</td>\n",
       "      <td>995</td>\n",
       "      <td>apartment</td>\n",
       "      <td>700</td>\n",
       "      <td>1</td>\n",
       "      <td>1.0</td>\n",
       "      <td>1</td>\n",
       "      <td>...</td>\n",
       "      <td>0</td>\n",
       "      <td>0</td>\n",
       "      <td>w/d in unit</td>\n",
       "      <td>carport</td>\n",
       "      <td>https://images.craigslist.org/00606_gYOGKClOHv...</td>\n",
       "      <td>To schedule a tour We now book our tour appoin...</td>\n",
       "      <td>36.0595</td>\n",
       "      <td>-86.6592</td>\n",
       "      <td>tn</td>\n",
       "      <td>1</td>\n",
       "    </tr>\n",
       "  </tbody>\n",
       "</table>\n",
       "<p>5 rows × 23 columns</p>\n",
       "</div>"
      ],
      "text/plain": [
       "           id                                                url  \\\n",
       "0  7048013474  https://boise.craigslist.org/apa/d/very-nice-b...   \n",
       "1  7043931179  https://cosprings.craigslist.org/apa/d/colorad...   \n",
       "2  7048254516  https://norfolk.craigslist.org/apa/d/virginia-...   \n",
       "3  7041032577  https://phoenix.craigslist.org/nph/apa/d/phoen...   \n",
       "4  7048588701  https://nashville.craigslist.org/apa/d/antioch...   \n",
       "\n",
       "                    region                        region_url  price  \\\n",
       "0                    boise      https://boise.craigslist.org   1350   \n",
       "1         colorado springs  https://cosprings.craigslist.org   1115   \n",
       "2  norfolk / hampton roads    https://norfolk.craigslist.org   1129   \n",
       "3                  phoenix    https://phoenix.craigslist.org   1580   \n",
       "4                nashville  https://nashville.craigslist.org    995   \n",
       "\n",
       "        type  sqfeet  beds  baths  cats_allowed  ...  electric_vehicle_charge  \\\n",
       "0      house    1200     2    2.0             1  ...                        0   \n",
       "1  apartment     694     1    1.0             1  ...                        0   \n",
       "2  apartment     900     2    2.0             0  ...                        0   \n",
       "3      house    1469     3    2.0             1  ...                        0   \n",
       "4  apartment     700     1    1.0             1  ...                        0   \n",
       "\n",
       "   comes_furnished  laundry_options     parking_options  \\\n",
       "0                0      w/d in unit     detached garage   \n",
       "1                0      w/d in unit             carport   \n",
       "2                0      w/d hookups  off-street parking   \n",
       "3                0      w/d in unit                None   \n",
       "4                0      w/d in unit             carport   \n",
       "\n",
       "                                           image_url  \\\n",
       "0  https://images.craigslist.org/00B0B_cPiJMEheZe...   \n",
       "1  https://images.craigslist.org/00R0R_5XAoSKvfrz...   \n",
       "2  https://images.craigslist.org/00f0f_3ZbTFrsHpZ...   \n",
       "3  https://images.craigslist.org/00f0f_aXV5Dkd5qk...   \n",
       "4  https://images.craigslist.org/00606_gYOGKClOHv...   \n",
       "\n",
       "                                         description      lat      long state  \\\n",
       "0  Super cute row house in the Boise bench area. ...  43.5851 -116.2250    id   \n",
       "1  Windtree Apartment Homes currently has a spaci...  38.9137 -104.7800    co   \n",
       "2  Call Today!  show contact info   Indian Lakes ...  36.7922  -76.1643    va   \n",
       "3  Cody Anderson Two Brothers Realty License #: S...  33.5623 -112.0560    az   \n",
       "4  To schedule a tour We now book our tour appoin...  36.0595  -86.6592    tn   \n",
       "\n",
       "   category_price  \n",
       "0               0  \n",
       "1               0  \n",
       "2               0  \n",
       "3               0  \n",
       "4               1  \n",
       "\n",
       "[5 rows x 23 columns]"
      ]
     },
     "execution_count": 137,
     "metadata": {},
     "output_type": "execute_result"
    }
   ],
   "source": [
    "df_train.head()"
   ]
  },
  {
   "attachments": {},
   "cell_type": "markdown",
   "metadata": {},
   "source": [
    "Genero dummies de la columna type para usarla en mi modelo"
   ]
  },
  {
   "cell_type": "code",
   "execution_count": 138,
   "metadata": {},
   "outputs": [],
   "source": [
    "df_dummies = pd.get_dummies(df_train, columns=['type'])"
   ]
  },
  {
   "attachments": {},
   "cell_type": "markdown",
   "metadata": {},
   "source": [
    "Quito las columnas que no están en el set de testeo"
   ]
  },
  {
   "cell_type": "code",
   "execution_count": 139,
   "metadata": {},
   "outputs": [],
   "source": [
    "df_dummies.drop(['type_land', 'type_assisted living'], axis=1, inplace=True)"
   ]
  },
  {
   "cell_type": "code",
   "execution_count": 140,
   "metadata": {},
   "outputs": [
    {
     "data": {
      "text/html": [
       "<div>\n",
       "<style scoped>\n",
       "    .dataframe tbody tr th:only-of-type {\n",
       "        vertical-align: middle;\n",
       "    }\n",
       "\n",
       "    .dataframe tbody tr th {\n",
       "        vertical-align: top;\n",
       "    }\n",
       "\n",
       "    .dataframe thead th {\n",
       "        text-align: right;\n",
       "    }\n",
       "</style>\n",
       "<table border=\"1\" class=\"dataframe\">\n",
       "  <thead>\n",
       "    <tr style=\"text-align: right;\">\n",
       "      <th></th>\n",
       "      <th>sqfeet</th>\n",
       "      <th>beds</th>\n",
       "      <th>baths</th>\n",
       "      <th>comes_furnished</th>\n",
       "      <th>type_apartment</th>\n",
       "      <th>type_condo</th>\n",
       "      <th>type_cottage/cabin</th>\n",
       "      <th>type_duplex</th>\n",
       "      <th>type_flat</th>\n",
       "      <th>type_house</th>\n",
       "      <th>type_in-law</th>\n",
       "      <th>type_loft</th>\n",
       "      <th>type_manufactured</th>\n",
       "      <th>type_townhouse</th>\n",
       "    </tr>\n",
       "  </thead>\n",
       "  <tbody>\n",
       "    <tr>\n",
       "      <th>0</th>\n",
       "      <td>1200</td>\n",
       "      <td>2</td>\n",
       "      <td>2.0</td>\n",
       "      <td>0</td>\n",
       "      <td>0</td>\n",
       "      <td>0</td>\n",
       "      <td>0</td>\n",
       "      <td>0</td>\n",
       "      <td>0</td>\n",
       "      <td>1</td>\n",
       "      <td>0</td>\n",
       "      <td>0</td>\n",
       "      <td>0</td>\n",
       "      <td>0</td>\n",
       "    </tr>\n",
       "    <tr>\n",
       "      <th>1</th>\n",
       "      <td>694</td>\n",
       "      <td>1</td>\n",
       "      <td>1.0</td>\n",
       "      <td>0</td>\n",
       "      <td>1</td>\n",
       "      <td>0</td>\n",
       "      <td>0</td>\n",
       "      <td>0</td>\n",
       "      <td>0</td>\n",
       "      <td>0</td>\n",
       "      <td>0</td>\n",
       "      <td>0</td>\n",
       "      <td>0</td>\n",
       "      <td>0</td>\n",
       "    </tr>\n",
       "    <tr>\n",
       "      <th>2</th>\n",
       "      <td>900</td>\n",
       "      <td>2</td>\n",
       "      <td>2.0</td>\n",
       "      <td>0</td>\n",
       "      <td>1</td>\n",
       "      <td>0</td>\n",
       "      <td>0</td>\n",
       "      <td>0</td>\n",
       "      <td>0</td>\n",
       "      <td>0</td>\n",
       "      <td>0</td>\n",
       "      <td>0</td>\n",
       "      <td>0</td>\n",
       "      <td>0</td>\n",
       "    </tr>\n",
       "    <tr>\n",
       "      <th>3</th>\n",
       "      <td>1469</td>\n",
       "      <td>3</td>\n",
       "      <td>2.0</td>\n",
       "      <td>0</td>\n",
       "      <td>0</td>\n",
       "      <td>0</td>\n",
       "      <td>0</td>\n",
       "      <td>0</td>\n",
       "      <td>0</td>\n",
       "      <td>1</td>\n",
       "      <td>0</td>\n",
       "      <td>0</td>\n",
       "      <td>0</td>\n",
       "      <td>0</td>\n",
       "    </tr>\n",
       "    <tr>\n",
       "      <th>4</th>\n",
       "      <td>700</td>\n",
       "      <td>1</td>\n",
       "      <td>1.0</td>\n",
       "      <td>0</td>\n",
       "      <td>1</td>\n",
       "      <td>0</td>\n",
       "      <td>0</td>\n",
       "      <td>0</td>\n",
       "      <td>0</td>\n",
       "      <td>0</td>\n",
       "      <td>0</td>\n",
       "      <td>0</td>\n",
       "      <td>0</td>\n",
       "      <td>0</td>\n",
       "    </tr>\n",
       "  </tbody>\n",
       "</table>\n",
       "</div>"
      ],
      "text/plain": [
       "   sqfeet  beds  baths  comes_furnished  type_apartment  type_condo  \\\n",
       "0    1200     2    2.0                0               0           0   \n",
       "1     694     1    1.0                0               1           0   \n",
       "2     900     2    2.0                0               1           0   \n",
       "3    1469     3    2.0                0               0           0   \n",
       "4     700     1    1.0                0               1           0   \n",
       "\n",
       "   type_cottage/cabin  type_duplex  type_flat  type_house  type_in-law  \\\n",
       "0                   0            0          0           1            0   \n",
       "1                   0            0          0           0            0   \n",
       "2                   0            0          0           0            0   \n",
       "3                   0            0          0           1            0   \n",
       "4                   0            0          0           0            0   \n",
       "\n",
       "   type_loft  type_manufactured  type_townhouse  \n",
       "0          0                  0               0  \n",
       "1          0                  0               0  \n",
       "2          0                  0               0  \n",
       "3          0                  0               0  \n",
       "4          0                  0               0  "
      ]
     },
     "execution_count": 140,
     "metadata": {},
     "output_type": "execute_result"
    }
   ],
   "source": [
    "feature_cols = df_dummies[['sqfeet','beds', 'baths', 'comes_furnished', 'type_apartment',\n",
    "'type_condo', 'type_cottage/cabin', 'type_duplex', 'type_flat',\n",
    "'type_house', 'type_in-law','type_loft',\n",
    "'type_manufactured', 'type_townhouse' ]]\n",
    "feature_cols.head()"
   ]
  },
  {
   "attachments": {},
   "cell_type": "markdown",
   "metadata": {},
   "source": [
    "Separo las variables independientes de la variable independiente"
   ]
  },
  {
   "cell_type": "code",
   "execution_count": 141,
   "metadata": {},
   "outputs": [],
   "source": [
    "X = feature_cols\n",
    "y = df_dummies.category_price"
   ]
  },
  {
   "attachments": {},
   "cell_type": "markdown",
   "metadata": {},
   "source": [
    "Divido set de entrenamiento y testeo"
   ]
  },
  {
   "cell_type": "code",
   "execution_count": 142,
   "metadata": {},
   "outputs": [],
   "source": [
    "X_train, X_test, y_train, y_test = train_test_split(X, y, test_size=0.3, random_state=1)"
   ]
  },
  {
   "attachments": {},
   "cell_type": "markdown",
   "metadata": {},
   "source": [
    "Inicio la función del árbol de decisión"
   ]
  },
  {
   "cell_type": "code",
   "execution_count": 143,
   "metadata": {},
   "outputs": [],
   "source": [
    "clf = DecisionTreeClassifier()"
   ]
  },
  {
   "attachments": {},
   "cell_type": "markdown",
   "metadata": {},
   "source": [
    "Entreno el modelo"
   ]
  },
  {
   "cell_type": "code",
   "execution_count": 144,
   "metadata": {},
   "outputs": [],
   "source": [
    "clf = clf.fit(X_train,y_train)"
   ]
  },
  {
   "attachments": {},
   "cell_type": "markdown",
   "metadata": {},
   "source": [
    "Saco la predcción"
   ]
  },
  {
   "cell_type": "code",
   "execution_count": 145,
   "metadata": {},
   "outputs": [],
   "source": [
    "y_pred = clf.predict(X_test)"
   ]
  },
  {
   "attachments": {},
   "cell_type": "markdown",
   "metadata": {},
   "source": [
    "Calculo la precisión del modelo"
   ]
  },
  {
   "cell_type": "code",
   "execution_count": 146,
   "metadata": {},
   "outputs": [
    {
     "name": "stdout",
     "output_type": "stream",
     "text": [
      "Accuracy: 0.7418706226429616\n"
     ]
    }
   ],
   "source": [
    "print(\"Accuracy:\",metrics.accuracy_score(y_test, y_pred))"
   ]
  },
  {
   "attachments": {},
   "cell_type": "markdown",
   "metadata": {},
   "source": [
    "Intento mejorar la precisión"
   ]
  },
  {
   "cell_type": "code",
   "execution_count": 147,
   "metadata": {},
   "outputs": [],
   "source": [
    "clf = DecisionTreeClassifier(max_depth=5)"
   ]
  },
  {
   "attachments": {},
   "cell_type": "markdown",
   "metadata": {},
   "source": [
    "Vuelvo a entrenar el modelo"
   ]
  },
  {
   "cell_type": "code",
   "execution_count": 148,
   "metadata": {},
   "outputs": [],
   "source": [
    "clf = clf.fit(X_train,y_train)"
   ]
  },
  {
   "attachments": {},
   "cell_type": "markdown",
   "metadata": {},
   "source": [
    "Lo guardo en un archivo pickle"
   ]
  },
  {
   "cell_type": "code",
   "execution_count": 149,
   "metadata": {},
   "outputs": [],
   "source": [
    "pickle.dump(clf, open('tree.pkl', 'wb'))\n",
    "pickled_clf = pickle.load(open('tree.pkl', 'rb'))"
   ]
  },
  {
   "attachments": {},
   "cell_type": "markdown",
   "metadata": {},
   "source": [
    "Hago la predicción nuevamente"
   ]
  },
  {
   "cell_type": "code",
   "execution_count": 150,
   "metadata": {},
   "outputs": [],
   "source": [
    "y_pred = pickled_clf.predict(X_test)\n"
   ]
  },
  {
   "attachments": {},
   "cell_type": "markdown",
   "metadata": {},
   "source": [
    "Calculo la precisión"
   ]
  },
  {
   "cell_type": "code",
   "execution_count": 151,
   "metadata": {},
   "outputs": [
    {
     "name": "stdout",
     "output_type": "stream",
     "text": [
      "Accuracy: 0.6668109751404603\n"
     ]
    }
   ],
   "source": [
    "print(\"Accuracy:\",metrics.accuracy_score(y_test, y_pred))"
   ]
  },
  {
   "attachments": {},
   "cell_type": "markdown",
   "metadata": {},
   "source": [
    "Traigo el set de testeo"
   ]
  },
  {
   "cell_type": "code",
   "execution_count": 152,
   "metadata": {},
   "outputs": [],
   "source": [
    "df_test = pd.read_parquet('test.parquet')"
   ]
  },
  {
   "attachments": {},
   "cell_type": "markdown",
   "metadata": {},
   "source": [
    "Quito las columnas que no voy a utilizar"
   ]
  },
  {
   "cell_type": "code",
   "execution_count": 153,
   "metadata": {},
   "outputs": [],
   "source": [
    "test_dummies = df_test.drop(['id', 'url', 'region_url', 'image_url', 'description', 'lat', 'long','laundry_options','cats_allowed', 'dogs_allowed', 'parking_options', 'smoking_allowed', 'wheelchair_access', 'electric_vehicle_charge', 'region', 'state'],axis=1, inplace=True)"
   ]
  },
  {
   "attachments": {},
   "cell_type": "markdown",
   "metadata": {},
   "source": [
    "Genero dummies de la columna 'type'"
   ]
  },
  {
   "cell_type": "code",
   "execution_count": 154,
   "metadata": {},
   "outputs": [],
   "source": [
    "test_dummies = pd.get_dummies(df_test, columns=['type'])"
   ]
  },
  {
   "cell_type": "code",
   "execution_count": 155,
   "metadata": {},
   "outputs": [
    {
     "data": {
      "text/plain": [
       "Index(['sqfeet', 'beds', 'baths', 'comes_furnished', 'type_apartment',\n",
       "       'type_condo', 'type_cottage/cabin', 'type_duplex', 'type_flat',\n",
       "       'type_house', 'type_in-law', 'type_loft', 'type_manufactured',\n",
       "       'type_townhouse'],\n",
       "      dtype='object')"
      ]
     },
     "execution_count": 155,
     "metadata": {},
     "output_type": "execute_result"
    }
   ],
   "source": [
    "test_dummies.columns"
   ]
  },
  {
   "attachments": {},
   "cell_type": "markdown",
   "metadata": {},
   "source": [
    "Inicio la función de árbol de decisión"
   ]
  },
  {
   "cell_type": "code",
   "execution_count": 156,
   "metadata": {},
   "outputs": [],
   "source": [
    "clf = DecisionTreeClassifier(max_depth=3)"
   ]
  },
  {
   "attachments": {},
   "cell_type": "markdown",
   "metadata": {},
   "source": [
    "Realizo la predicción "
   ]
  },
  {
   "cell_type": "code",
   "execution_count": 157,
   "metadata": {},
   "outputs": [
    {
     "data": {
      "text/plain": [
       "array([0, 0, 0, ..., 0, 0, 1])"
      ]
     },
     "execution_count": 157,
     "metadata": {},
     "output_type": "execute_result"
    }
   ],
   "source": [
    "pred = pickled_clf.predict(test_dummies)\n",
    "pred"
   ]
  },
  {
   "attachments": {},
   "cell_type": "markdown",
   "metadata": {},
   "source": [
    "Calculo accuracy"
   ]
  },
  {
   "cell_type": "code",
   "execution_count": 158,
   "metadata": {},
   "outputs": [
    {
     "name": "stdout",
     "output_type": "stream",
     "text": [
      "Accuracy: 0.6668109751404603\n"
     ]
    }
   ],
   "source": [
    "print(\"Accuracy:\",metrics.accuracy_score(y_test, y_pred))"
   ]
  },
  {
   "cell_type": "code",
   "execution_count": 159,
   "metadata": {},
   "outputs": [
    {
     "data": {
      "text/html": [
       "<div>\n",
       "<style scoped>\n",
       "    .dataframe tbody tr th:only-of-type {\n",
       "        vertical-align: middle;\n",
       "    }\n",
       "\n",
       "    .dataframe tbody tr th {\n",
       "        vertical-align: top;\n",
       "    }\n",
       "\n",
       "    .dataframe thead th {\n",
       "        text-align: right;\n",
       "    }\n",
       "</style>\n",
       "<table border=\"1\" class=\"dataframe\">\n",
       "  <thead>\n",
       "    <tr style=\"text-align: right;\">\n",
       "      <th></th>\n",
       "    </tr>\n",
       "    <tr>\n",
       "      <th>pred</th>\n",
       "    </tr>\n",
       "  </thead>\n",
       "  <tbody>\n",
       "    <tr>\n",
       "      <th>0</th>\n",
       "    </tr>\n",
       "    <tr>\n",
       "      <th>0</th>\n",
       "    </tr>\n",
       "    <tr>\n",
       "      <th>0</th>\n",
       "    </tr>\n",
       "    <tr>\n",
       "      <th>0</th>\n",
       "    </tr>\n",
       "    <tr>\n",
       "      <th>1</th>\n",
       "    </tr>\n",
       "    <tr>\n",
       "      <th>...</th>\n",
       "    </tr>\n",
       "    <tr>\n",
       "      <th>0</th>\n",
       "    </tr>\n",
       "    <tr>\n",
       "      <th>0</th>\n",
       "    </tr>\n",
       "    <tr>\n",
       "      <th>0</th>\n",
       "    </tr>\n",
       "    <tr>\n",
       "      <th>0</th>\n",
       "    </tr>\n",
       "    <tr>\n",
       "      <th>1</th>\n",
       "    </tr>\n",
       "  </tbody>\n",
       "</table>\n",
       "<p>38498 rows × 0 columns</p>\n",
       "</div>"
      ],
      "text/plain": [
       "Empty DataFrame\n",
       "Columns: []\n",
       "Index: [0, 0, 0, 0, 1, 0, 0, 0, 1, 0, 1, 1, 1, 0, 0, 0, 0, 0, 0, 1, 0, 0, 1, 1, 0, 0, 0, 0, 1, 0, 0, 0, 1, 0, 0, 0, 0, 0, 0, 0, 0, 0, 0, 1, 0, 0, 0, 0, 0, 0, 0, 1, 1, 1, 0, 0, 0, 1, 0, 1, 1, 0, 0, 1, 1, 0, 1, 0, 0, 0, 1, 1, 0, 1, 0, 0, 1, 1, 0, 0, 0, 1, 1, 1, 0, 0, 0, 0, 0, 0, 1, 0, 1, 0, 1, 0, 0, 0, 1, 0, ...]\n",
       "\n",
       "[38498 rows x 0 columns]"
      ]
     },
     "execution_count": 159,
     "metadata": {},
     "output_type": "execute_result"
    }
   ],
   "source": [
    "Monicav84 = pd.DataFrame(data=pred, columns=['pred']).set_index('pred')\n",
    "Monicav84"
   ]
  },
  {
   "cell_type": "code",
   "execution_count": 160,
   "metadata": {},
   "outputs": [],
   "source": [
    "Monicav84.to_csv('Monicav84.csv')"
   ]
  }
 ],
 "metadata": {
  "kernelspec": {
   "display_name": "Python 3",
   "language": "python",
   "name": "python3"
  },
  "language_info": {
   "codemirror_mode": {
    "name": "ipython",
    "version": 3
   },
   "file_extension": ".py",
   "mimetype": "text/x-python",
   "name": "python",
   "nbconvert_exporter": "python",
   "pygments_lexer": "ipython3",
   "version": "3.11.1"
  },
  "orig_nbformat": 4,
  "vscode": {
   "interpreter": {
    "hash": "e7370f93d1d0cde622a1f8e1c04877d8463912d04d973331ad4851f04de6915a"
   }
  }
 },
 "nbformat": 4,
 "nbformat_minor": 2
}
